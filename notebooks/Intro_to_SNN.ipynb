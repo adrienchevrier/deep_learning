{
 "cells": [
  {
   "cell_type": "markdown",
   "metadata": {},
   "source": [
    "# Moving to Shallow Neural Networks\n",
    "\n",
    "In this tutorial, you'll implement a shallow neural network to classify digits ranging from 0 to 9. The dataset you'll use is quite famous, it's called 'MNIST' http://yann.lecun.com/exdb/mnist/. A French guy put it up, he's very famous in the DL comunity, he's called Yann Lecun and is now both head of the Facebook AI reseach program and head of something in the University of New York...\n",
    "\n",
    "\n",
    "### First step\n",
    "\n",
    "As a first step, I invite you to discover what is MNIST. You might find [this notebook](https://nbviewer.jupyter.org/github/marc-moreaux/Deep-Learning-classes/blob/master/notebooks/dataset_MNIST.ipynb) to be usefull, but feel to browse the web.\n",
    "\n",
    "Once you get the idea, you can download the dataset "
   ]
  },
  {
   "cell_type": "code",
   "execution_count": 1,
   "metadata": {},
   "outputs": [
    {
     "data": {
      "text/plain": [
       "'D:\\\\ECE\\\\ING5\\\\deep_learning'"
      ]
     },
     "execution_count": 1,
     "metadata": {},
     "output_type": "execute_result"
    }
   ],
   "source": [
    "# Download the dataset in this directory (does that work on Windows OS ?)\n",
    "#! wget http://deeplearning.net/data/mnist/mnist.pkl.gz\n",
    "import os\n",
    "os.getcwd()\n",
    "os.chdir(\"D:\\ECE\\ING5\\deep_learning\" )\n",
    "os.getcwd()"
   ]
  },
  {
   "cell_type": "code",
   "execution_count": 2,
   "metadata": {
    "collapsed": true
   },
   "outputs": [],
   "source": [
    "import pickle, gzip, numpy\n",
    "import numpy as np\n",
    "\n",
    "# Load the dataset\n",
    "f = gzip.open('mnist.pkl.gz', 'rb')\n",
    "train_set, valid_set, test_set = pickle.load(f,encoding='latin1')\n",
    "f.close()\n",
    "\n",
    "def to_one_hot(y, n_classes=10): # You might want to use this as some point...\n",
    "    _y = np.zeros((len(y), n_classes))\n",
    "    _y[np.arange(len(y)), y] = 1\n",
    "    return _y\n",
    "\n",
    "X_train, y_train = train_set[0], train_set[1]\n",
    "X_valid, y_valid = valid_set[0], valid_set[1]\n",
    "X_test,  y_test  = test_set[0],  test_set[1]"
   ]
  },
  {
   "cell_type": "markdown",
   "metadata": {},
   "source": [
    "---\n",
    "# You can now implement a 2 layers NN\n",
    "\n",
    "Now that you have the data, you can build the a shallow neural network (SNN). I expect your SNN to have two layers. \n",
    "    - Layer 1 has 20 neurons with a sigmoid activation\n",
    "    - Layer 2 has 10 neurons with a softmax activation\n",
    "    - Loss is Negative Log Likelihood (wich is also the cross entropy)\n",
    "    \n",
    "You'll need to comment your work such that I understand that you understand what you are doing"
   ]
  },
  {
   "cell_type": "markdown",
   "metadata": {},
   "source": [
    "### 1 - Define Parameters"
   ]
  },
  {
   "cell_type": "code",
   "execution_count": 30,
   "metadata": {
    "collapsed": true
   },
   "outputs": [],
   "source": [
    "# HELPER \n",
    "def softmax(Z):\n",
    "    \"\"\"Z is a vector eg. [1,2,3]\n",
    "    return: the vector softmax(Z) eg. [.09, .24, .67]\n",
    "    \"\"\"\n",
    "    return np.exp(Z) / np.exp(Z).sum(axis=0)\n",
    "\n",
    "def sigmoid(Z):\n",
    "    return 1 / (1 + np.exp(-Z))\n",
    "\n",
    "def dsigmoid(Z):\n",
    "    return np.dot(Z,(1-Z))\n",
    "\n",
    "def selu(x):\n",
    "        ALPHA = 1.6732632423543772848170429916717\n",
    "        LAMBDA = 1.0507009873554804934193349852946\n",
    "        if x <= 0.0:\n",
    "            return LAMBDA * (ALPHA * np.exp(x) - ALPHA)\n",
    "        else:\n",
    "            return LAMBDA * x\n",
    "    \n",
    "\n",
    "# Define the variables here (initialize the weights with the np.random.normal module):\n",
    "W1, b1 =np.random.normal(0,0.1, (784,20)), np.random.normal(0,0.1, 20)\n",
    "W2, b2 =np.random.normal(1,0.1, (20,20)),np.random.normal(1,0.1, 20) "
   ]
  },
  {
   "cell_type": "markdown",
   "metadata": {},
   "source": [
    "### 2 - Define Model"
   ]
  },
  {
   "cell_type": "code",
   "execution_count": 160,
   "metadata": {},
   "outputs": [],
   "source": [
    "def layer(W,X,b):\n",
    "    return (np.dot(W.transpose(),X)+b)\n",
    "\n",
    "def Pred(X,W1,W2,b1,b2):\n",
    "    \"\"\"Explanations ...\n",
    "    Arguments:\n",
    "        X: An input image (as a vector)(shape is <784,1>)\n",
    "    Returns : a vector ???\n",
    "    \"\"\"\n",
    "    A2 = np.ones((20,1))\n",
    "    P = np.ones((10,1))\n",
    "    Z = np.ones((10,1))\n",
    "    A1 = np.ones((20,1))\n",
    "    \n",
    "    A1 = (layer(W1,X,b1))\n",
    "    np.place(A1, np.isnan(A1), 1)\n",
    "        \n",
    "    A2 = (sigmoid(A1))\n",
    "    #for x in range(0,len(a1)):\n",
    "    #   A2[x]=selu(A1[x])\n",
    "    A2 = A2.reshape(20)\n",
    "    np.place(A2, np.isnan(A2), 1)\n",
    "    Z = (layer(W2,A2,b2))\n",
    "    np.place(Z, np.isnan(Z), 1)\n",
    "    P = softmax(Z)\n",
    "    return P,Z,A2,A1\n",
    "\n",
    "def loss(P, Y,i):\n",
    "    \"\"\"Explanations : \n",
    "    Arguments:\n",
    "        P: The prediction vector corresponding to an image (X^s)\n",
    "        Y: The ground truth of an image\n",
    "    Returns: a vector ???\n",
    "    \"\"\"\n",
    "    #for i in range (0,len(Y)):\n",
    "\n",
    "    return np.sum(np.dot(Y[i],np.log(P)))"
   ]
  },
  {
   "cell_type": "markdown",
   "metadata": {},
   "source": [
    "### 3 - Define Derivatives"
   ]
  },
  {
   "cell_type": "code",
   "execution_count": 148,
   "metadata": {
    "collapsed": true
   },
   "outputs": [],
   "source": [
    "def dW1(L,A,W2,X):\n",
    "    \"\"\"Explanations ??\n",
    "    Returns: A vector which is the derivative of the loss with respect to W1\n",
    "    \"\"\"\n",
    "    return  np.dot(X.transpose()[:,None], db1(L,A,W2).transpose()[None,:])\n",
    "\n",
    "\n",
    "def db1(L,A,W2):\n",
    "    \"\"\"Explanations ??\n",
    "    Arguments:\n",
    "        L is the loss af a sample (a scalar)\n",
    "    Returns: A scalar which is the derivative of the Loss with respect to b1\n",
    "    \"\"\"\n",
    "    return np.dot(L,np.dot(W2.transpose(),dsigmoid(A)))\n",
    "\n",
    "\n",
    "def dW2(L,A):\n",
    "    return np.dot(A[:,None],L[None,:])\n",
    "\n",
    "\n",
    "\n",
    "def dL(P,Y,i):\n",
    "    return P-Y[i]"
   ]
  },
  {
   "cell_type": "markdown",
   "metadata": {},
   "source": [
    "### 4 - Train you model\n",
    "\n",
    "You may use Standard Gradient Descent (SGD) to train your model. (Experiment with many learning rates)"
   ]
  },
  {
   "cell_type": "code",
   "execution_count": 182,
   "metadata": {
    "scrolled": false
   },
   "outputs": [
    {
     "name": "stderr",
     "output_type": "stream",
     "text": [
      "D:\\anaconda_windows\\lib\\site-packages\\ipykernel_launcher.py:9: RuntimeWarning: overflow encountered in exp\n",
      "  if __name__ == '__main__':\n"
     ]
    },
    {
     "ename": "KeyboardInterrupt",
     "evalue": "",
     "output_type": "error",
     "traceback": [
      "\u001b[1;31m---------------------------------------------------------------------------\u001b[0m",
      "\u001b[1;31mKeyboardInterrupt\u001b[0m                         Traceback (most recent call last)",
      "\u001b[1;32m<ipython-input-182-d7d83f5b96df>\u001b[0m in \u001b[0;36m<module>\u001b[1;34m()\u001b[0m\n\u001b[0;32m     18\u001b[0m         \u001b[0mdl\u001b[0m \u001b[1;33m=\u001b[0m \u001b[0mdL\u001b[0m\u001b[1;33m(\u001b[0m\u001b[0mp\u001b[0m\u001b[1;33m,\u001b[0m\u001b[0mmy\u001b[0m\u001b[1;33m,\u001b[0m\u001b[0mi\u001b[0m\u001b[1;33m)\u001b[0m\u001b[1;33m\u001b[0m\u001b[0m\n\u001b[0;32m     19\u001b[0m         \u001b[0mb2\u001b[0m \u001b[1;33m=\u001b[0m \u001b[0mb2\u001b[0m \u001b[1;33m-\u001b[0m \u001b[0malpha\u001b[0m\u001b[1;33m*\u001b[0m\u001b[0mdl\u001b[0m\u001b[1;33m\u001b[0m\u001b[0m\n\u001b[1;32m---> 20\u001b[1;33m         \u001b[0mW2\u001b[0m \u001b[1;33m=\u001b[0m \u001b[0mW2\u001b[0m \u001b[1;33m-\u001b[0m \u001b[0malpha\u001b[0m\u001b[1;33m*\u001b[0m\u001b[0mdW2\u001b[0m\u001b[1;33m(\u001b[0m\u001b[0mdl\u001b[0m\u001b[1;33m,\u001b[0m\u001b[0ma2\u001b[0m\u001b[1;33m)\u001b[0m\u001b[1;33m\u001b[0m\u001b[0m\n\u001b[0m\u001b[0;32m     21\u001b[0m         \u001b[0mb1\u001b[0m \u001b[1;33m=\u001b[0m \u001b[0mb1\u001b[0m \u001b[1;33m-\u001b[0m \u001b[0malpha\u001b[0m\u001b[1;33m*\u001b[0m\u001b[0mdb1\u001b[0m\u001b[1;33m(\u001b[0m\u001b[0mdl\u001b[0m\u001b[1;33m,\u001b[0m\u001b[0ma2\u001b[0m\u001b[1;33m,\u001b[0m\u001b[0mW2\u001b[0m\u001b[1;33m)\u001b[0m\u001b[1;33m\u001b[0m\u001b[0m\n\u001b[0;32m     22\u001b[0m         \u001b[0mW1\u001b[0m \u001b[1;33m=\u001b[0m \u001b[0mW1\u001b[0m \u001b[1;33m-\u001b[0m \u001b[0malpha\u001b[0m\u001b[1;33m*\u001b[0m\u001b[0mdW1\u001b[0m\u001b[1;33m(\u001b[0m\u001b[0mdl\u001b[0m\u001b[1;33m,\u001b[0m\u001b[0ma2\u001b[0m\u001b[1;33m,\u001b[0m\u001b[0mW2\u001b[0m\u001b[1;33m,\u001b[0m\u001b[0mX_train\u001b[0m\u001b[1;33m[\u001b[0m\u001b[0mi\u001b[0m\u001b[1;33m,\u001b[0m\u001b[1;33m:\u001b[0m\u001b[1;33m]\u001b[0m\u001b[1;33m)\u001b[0m\u001b[1;33m\u001b[0m\u001b[0m\n",
      "\u001b[1;32m<ipython-input-148-a177c31e09eb>\u001b[0m in \u001b[0;36mdW2\u001b[1;34m(L, A)\u001b[0m\n\u001b[0;32m     16\u001b[0m \u001b[1;33m\u001b[0m\u001b[0m\n\u001b[0;32m     17\u001b[0m \u001b[1;32mdef\u001b[0m \u001b[0mdW2\u001b[0m\u001b[1;33m(\u001b[0m\u001b[0mL\u001b[0m\u001b[1;33m,\u001b[0m\u001b[0mA\u001b[0m\u001b[1;33m)\u001b[0m\u001b[1;33m:\u001b[0m\u001b[1;33m\u001b[0m\u001b[0m\n\u001b[1;32m---> 18\u001b[1;33m     \u001b[1;32mreturn\u001b[0m \u001b[0mnp\u001b[0m\u001b[1;33m.\u001b[0m\u001b[0mdot\u001b[0m\u001b[1;33m(\u001b[0m\u001b[0mA\u001b[0m\u001b[1;33m[\u001b[0m\u001b[1;33m:\u001b[0m\u001b[1;33m,\u001b[0m\u001b[1;32mNone\u001b[0m\u001b[1;33m]\u001b[0m\u001b[1;33m,\u001b[0m\u001b[0mL\u001b[0m\u001b[1;33m[\u001b[0m\u001b[1;32mNone\u001b[0m\u001b[1;33m,\u001b[0m\u001b[1;33m:\u001b[0m\u001b[1;33m]\u001b[0m\u001b[1;33m)\u001b[0m\u001b[1;33m\u001b[0m\u001b[0m\n\u001b[0m\u001b[0;32m     19\u001b[0m \u001b[1;33m\u001b[0m\u001b[0m\n\u001b[0;32m     20\u001b[0m \u001b[1;33m\u001b[0m\u001b[0m\n",
      "\u001b[1;31mKeyboardInterrupt\u001b[0m: "
     ]
    }
   ],
   "source": [
    "# Define the variables here (initialize the weights with the np.random.normal module):\n",
    "W1, b1 =np.random.normal(0,0.1, (784,20)), np.random.normal(0,0.1, 20)\n",
    "W2, b2 =np.random.normal(1,0.1, (20,10)),np.random.normal(1,0.1, 10)\n",
    "alpha = 0.1\n",
    "\n",
    "a2 = np.ones((20,1))\n",
    "p = np.ones((10,1))\n",
    "z = np.ones((10,1))\n",
    "a1 = np.ones((20,1))\n",
    "l = np.ones((10,1))\n",
    "my = to_one_hot(y_train, n_classes=10)\n",
    "#for i in range (1,50000):\n",
    "j = 0\n",
    "for j in range (1,100):\n",
    "    for i in range (0,50000):\n",
    "        p,z,a2,a1 = Pred(X_train[i,:],W1,W2,b1,b2)\n",
    "        l = loss(p,my,i)\n",
    "        dl = dL(p,my,i)\n",
    "        b2 = b2 - alpha*dl\n",
    "        W2 = W2 - alpha*dW2(dl,a2)\n",
    "        b1 = b1 - alpha*db1(dl,a2,W2)\n",
    "        W1 = W1 - alpha*dW1(dl,a2,W2,X_train[i,:])\n",
    "    #print(l)\n",
    "print(\"y\")\n",
    "print(my[i])\n",
    "print(\"p\")\n",
    "print(p)\n",
    "print(\"loss\")\n",
    "print((l))\n",
    "print(\"dl\")\n",
    "print(dl)"
   ]
  },
  {
   "cell_type": "code",
   "execution_count": 181,
   "metadata": {},
   "outputs": [
    {
     "name": "stdout",
     "output_type": "stream",
     "text": [
      "y\n",
      "[ 0.  0.  0.  0.  0.  1.  0.  0.  0.  0.]\n",
      "p\n",
      "[  9.08038967e-02   4.02729873e-04   3.77741999e-03   4.16404277e-02\n",
      "   1.24333258e-04   6.81290842e-02   3.02519634e-05   8.58326411e-04\n",
      "   7.92567761e-01   1.66576853e-03]\n",
      "loss\n"
     ]
    }
   ],
   "source": [
    "p,z,a2,a1 = Pred(X_train[0,:],W1,W2,b1,b2)\n",
    "print(\"y\")\n",
    "print(my[0])\n",
    "print(\"p\")\n",
    "print(p)\n",
    "print(\"loss\")"
   ]
  },
  {
   "cell_type": "markdown",
   "metadata": {},
   "source": [
    "### 5 - Test the accuracy of your model on the Test set"
   ]
  },
  {
   "cell_type": "code",
   "execution_count": 178,
   "metadata": {},
   "outputs": [
    {
     "name": "stdout",
     "output_type": "stream",
     "text": [
      "y\n",
      "2\n",
      "p\n",
      "[  6.91188563e-02   1.61672356e-02   4.33519062e-02   2.35961908e-02\n",
      "   4.02317843e-03   5.84098594e-02   1.89182688e-02   3.17734985e-04\n",
      "   7.65580692e-01   5.16077300e-04]\n"
     ]
    }
   ],
   "source": [
    "p,z,a2,a1 = Pred(X_test[1],W1,W2,b1,b2)\n",
    "print(\"y\")\n",
    "print(y_test[1])\n",
    "print(\"p\")\n",
    "print(p)\n"
   ]
  },
  {
   "cell_type": "markdown",
   "metadata": {},
   "source": [
    "---\n",
    "# You can now go Deeper\n",
    "\n",
    "Build a deeper model trained with SGD (You don't need to use the biases here)\n",
    "    - Layer 1 has 10 neurons with a sigmoid activation\n",
    "    - Layer 2 has 10 neurons with a sigmoid activation\n",
    "    - Layer 3 has 10 neurons with a sigmoid activation\n",
    "    - Layer 4 has 10 neurons with a sigmoid activation\n",
    "    - Layer 5 has 10 neurons with a sigmoid activation\n",
    "    - Layer 6 has 10 neurons with a softmax activation\n",
    "    - Loss is Negative Log Likelihood\n",
    "\n",
    "Is it converging ? Why ? What's wrong ?"
   ]
  },
  {
   "cell_type": "code",
   "execution_count": 104,
   "metadata": {},
   "outputs": [
    {
     "data": {
      "text/plain": [
       "array([-0.        , -0.        , -0.        , -0.        , -0.        ,\n",
       "       -2.30258509, -0.        , -0.        , -0.        , -0.        ])"
      ]
     },
     "execution_count": 104,
     "metadata": {},
     "output_type": "execute_result"
    }
   ],
   "source": [
    "toto =loss(p,my,0)\n",
    "toto"
   ]
  },
  {
   "cell_type": "code",
   "execution_count": 110,
   "metadata": {},
   "outputs": [
    {
     "data": {
      "text/plain": [
       "-2.3025850929940455"
      ]
     },
     "execution_count": 110,
     "metadata": {},
     "output_type": "execute_result"
    }
   ],
   "source": [
    "np.sum(l)"
   ]
  }
 ],
 "metadata": {
  "kernelspec": {
   "display_name": "Python 3",
   "language": "python",
   "name": "python3"
  },
  "language_info": {
   "codemirror_mode": {
    "name": "ipython",
    "version": 3
   },
   "file_extension": ".py",
   "mimetype": "text/x-python",
   "name": "python",
   "nbconvert_exporter": "python",
   "pygments_lexer": "ipython3",
   "version": "3.6.3"
  }
 },
 "nbformat": 4,
 "nbformat_minor": 2
}

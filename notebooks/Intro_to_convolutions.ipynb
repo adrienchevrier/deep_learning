{
 "cells": [
  {
   "cell_type": "markdown",
   "metadata": {},
   "source": [
    "# Use of convolutions with tensorflow\n",
    "\n",
    "In this notebook, you'll be using tensorflow to build a Convolutional Neural Network (CNN).  "
   ]
  },
  {
   "cell_type": "markdown",
   "metadata": {},
   "source": [
    "### Convolution\n",
    "\n",
    "Both, [this notebook](https://nbviewer.jupyter.org/github/marc-moreaux/Deep-Learning-classes/blob/master/notebooks/Convolution.ipynb) and this [wikipedia page](https://en.wikipedia.org/wiki/Convolution) might help you understand what is a convolution.\n",
    "\n",
    "no, if we consider two functions $f$ and $g$ taking values from $\\mathbb{Z} \\to \\mathbb{R}$ then:  \n",
    "$ (f * g)[n] = \\sum_{m = -\\infty}^{+\\infty} f[m] \\cdot g[n - m] $\n",
    "\n",
    "In our case, we consider the two vectors $x$ and $w$ :  \n",
    "$ x = (x_1, x_2, ..., x_{n-1}, x_n) $  \n",
    "$ w = (w_1, w_2) $\n",
    "\n",
    "And get :   \n",
    "$ x * w = (w_1 x_1 + w_2 x_2, w_1 x_2 + w_2 x_3, ..., w_1 x_{n-1} + w_2 x_n)$\n",
    "\n",
    "\n",
    "#### Deep learning subtility :\n",
    "    \n",
    "In most of deep learning framewoks, you'll get to chose in between three paddings:\n",
    "- **Same**: $(f*g)$ has the same shape as x (we pad the entry with zeros)\n",
    "- **valid**: $(f*g)$ has the shape of x minus the shape of w plus 1 (no padding on x)\n",
    "- **Causal**: $(f*g)(n_t)$ does not depend on any $(n_{t+1})$"
   ]
  },
  {
   "cell_type": "markdown",
   "metadata": {},
   "source": [
    "### Tensorflow\n",
    "\n",
    "\"TensorFlow is an open-source software library for dataflow programming across a range of tasks. It is a symbolic math library, and also used for machine learning applications such as neural networks.[3] It is used for both research and production at Google often replacing its closed-source predecessor, DistBelief.\" - Wikipedia\n",
    "\n",
    "We'll be using tensorflow to build the models we want to use. \n",
    "\n",
    "Here below, we build a AND gate with a very simple neural network :"
   ]
  },
  {
   "cell_type": "code",
   "execution_count": 172,
   "metadata": {},
   "outputs": [
    {
     "name": "stdout",
     "output_type": "stream",
     "text": [
      "[[ 0.00839782]\n",
      " [ 0.14990877]\n",
      " [ 0.14990877]\n",
      " [ 0.78595549]] Tensor(\"Y:0\", shape=(?, 1), dtype=float32)\n"
     ]
    }
   ],
   "source": [
    "import tensorflow as tf\n",
    "import numpy as np\n",
    "\n",
    "tf.reset_default_graph()\n",
    "\n",
    "# Define our Dataset\n",
    "X = np.array([[0,0],[0,1],[1,0],[1,1]])\n",
    "Y = np.array([0,0,0,1]).reshape(-1,1)\n",
    "\n",
    "\n",
    "# Define the tensorflow tensors\n",
    "x = tf.placeholder(tf.float32, [None, 2], name='X')  # inputs\n",
    "y = tf.placeholder(tf.float32, [None, 1], name='Y')  # outputs\n",
    "W = tf.Variable(tf.zeros([2, 1]), name='W')\n",
    "b = tf.Variable(tf.zeros([1,]), name='b')\n",
    "\n",
    "# Define the model\n",
    "pred = tf.nn.sigmoid(tf.matmul(x, W) + b)  # Model\n",
    "\n",
    "# Define the loss\n",
    "with tf.name_scope(\"loss\"):\n",
    "    loss = tf.reduce_mean(-tf.reduce_sum(y * tf.log(pred) + (1-y) * tf.log(1-pred), reduction_indices=1))\n",
    "    \n",
    "\n",
    "# Define the optimizer method you want to use\n",
    "with tf.name_scope(\"optimizer\"):\n",
    "    optimizer = tf.train.GradientDescentOptimizer(0.1).minimize(loss)\n",
    "\n",
    "# Include some Tensorboard visualization\n",
    "writer_train = tf.summary.FileWriter(\"./my_model/\")\n",
    "loss_summary = tf.summary.scalar('loss',loss)\n",
    "\n",
    "\n",
    "# Start training session\n",
    "with tf.Session() as sess:\n",
    "    sess.run(tf.global_variables_initializer())\n",
    "    writer_train.add_graph(sess.graph)\n",
    "    \n",
    "    for epoch in range(1000):\n",
    "        _, c, p, ls = sess.run([optimizer, loss, pred, loss_summary], feed_dict={x: X,\n",
    "                                                      y: Y})\n",
    "        writer_train.add_summary(ls,epoch)\n",
    "print(p, y)"
   ]
  },
  {
   "cell_type": "markdown",
   "metadata": {},
   "source": [
    "To visualize the graph you just created, launch tensorbord.  \n",
    "`$tensorboard --logdirs=./` on linux (with corresponding logdir)"
   ]
  },
  {
   "cell_type": "markdown",
   "metadata": {},
   "source": [
    "---\n",
    "### Get inspiration from the preceding code to build a XOR gate\n",
    "\n",
    "Design a neural network with 2 layers.\n",
    "- layer1 has 2 neurons (sigmoid or tanh activation)\n",
    "- Layer2 has 1 neuron (it outouts the prediction)\n",
    "\n",
    "And train  it\n",
    "\n",
    "It's **mandatory** that you get a **tensorboard visualization** of your graph, try to make it look good, plz :)\n",
    "\n",
    "Here below I put a graph of the model you want to have (yet your weights won't be the same)\n",
    "![graph](https://i.stack.imgur.com/nRZ6z.png)"
   ]
  },
  {
   "cell_type": "code",
   "execution_count": 176,
   "metadata": {},
   "outputs": [
    {
     "name": "stdout",
     "output_type": "stream",
     "text": [
      "[[ 0.02839497]\n",
      " [ 0.98323745]\n",
      " [ 0.98305202]\n",
      " [ 0.03247236]] [[0]\n",
      " [1]\n",
      " [1]\n",
      " [0]]\n"
     ]
    }
   ],
   "source": [
    "### Code here\n",
    "import tensorflow as tf\n",
    "import numpy as np\n",
    "from datetime import datetime\n",
    "now = datetime.now()\n",
    "logdir = \"./xor/\" + now.strftime(\"%Y%m%d-%H%M%S\") + \"/\"\n",
    "\n",
    "tf.reset_default_graph()\n",
    "\n",
    "# Define our Dataset\n",
    "X = np.array([[0,0],[0,1],[1,0],[1,1]])\n",
    "Y = np.array([0,1,1,0]).reshape(-1,1)\n",
    "\n",
    "\n",
    "# Define the tensorflow tensors\n",
    "x = tf.placeholder(tf.float32, [None, 2], name='X')  # inputs\n",
    "y = tf.placeholder(tf.float32, [None, 1], name='Y')  # outputs\n",
    "W1 = tf.Variable(tf.random_normal([2, 2]), name='W1')\n",
    "b1 = tf.Variable(tf.random_normal([2,]), name='b1')\n",
    "W2 = tf.Variable(tf.random_normal([2, 1]), name='W2')\n",
    "b2 = tf.Variable(tf.random_normal([1,]), name='b2')\n",
    "\n",
    "# Define the model\n",
    "A1 = tf.nn.tanh(tf.matmul(x, W1) + b1)  # Model\n",
    "pred = tf.nn.sigmoid(tf.matmul(A1, W2) + b2)\n",
    "\n",
    "# Define the loss\n",
    "with tf.name_scope(\"loss\"):\n",
    "    loss = tf.reduce_mean(-tf.reduce_sum(y * tf.log(pred) + (1-y) * tf.log(1-pred), reduction_indices=1))\n",
    "    \n",
    "\n",
    "# Define the optimizer method you want to use\n",
    "with tf.name_scope(\"optimizer\"):\n",
    "    optimizer = tf.train.GradientDescentOptimizer(0.2).minimize(loss)\n",
    "\n",
    "# Include some Tensorboard visualization\n",
    "writer_train = tf.summary.FileWriter(logdir)\n",
    "loss_summary = tf.summary.scalar('loss',loss)\n",
    "variables_names =[v.name for v in tf.trainable_variables()]\n",
    "\n",
    "\n",
    "# Start training session\n",
    "with tf.Session() as sess:\n",
    "    sess.run(tf.global_variables_initializer())\n",
    "    writer_train.add_graph(sess.graph)\n",
    "    \n",
    "    for epoch in range(1000):\n",
    "        _, c, p, ls = sess.run([optimizer, loss, pred, loss_summary], feed_dict={x: X,\n",
    "                                                      y: Y})\n",
    "        writer_train.add_summary(ls,epoch)\n",
    "        values = sess.run(variables_names)\n",
    "        \n",
    "print(p, Y)"
   ]
  },
  {
   "cell_type": "code",
   "execution_count": 34,
   "metadata": {},
   "outputs": [
    {
     "data": {
      "text/plain": [
       "array([[0, 0],\n",
       "       [0, 1],\n",
       "       [1, 0],\n",
       "       [1, 1]])"
      ]
     },
     "execution_count": 34,
     "metadata": {},
     "output_type": "execute_result"
    }
   ],
   "source": []
  },
  {
   "cell_type": "markdown",
   "metadata": {},
   "source": [
    "### Print the weights of your model\n",
    "And give an interpretation on what they are doing"
   ]
  },
  {
   "cell_type": "code",
   "execution_count": 21,
   "metadata": {},
   "outputs": [
    {
     "name": "stdout",
     "output_type": "stream",
     "text": [
      "W1:0 [[ 3.75516963  4.00827408]\n",
      " [-3.90196252 -3.92286706]]\n",
      "b1:0 [-1.79565525  1.89936256]\n",
      "W2:0 [[ 6.94423485]\n",
      " [-6.92984962]]\n",
      "b2:0 [ 6.42972422]\n"
     ]
    }
   ],
   "source": [
    "for k,v in zip(variables_names, values):\n",
    "    print(k, v)"
   ]
  },
  {
   "cell_type": "markdown",
   "metadata": {},
   "source": [
    "---\n",
    "### Build a CNN to predict the MNIST digits\n",
    "You can now move to CNNs. You'll have to train a convolutional neural network to predict the digits from MNIST.\n",
    "\n",
    "You might want to reuse some pieces of code from [SNN](https://nbviewer.jupyter.org/github/marc-moreaux/Deep-Learning-classes/blob/master/notebooks/Intro_to_SNN.ipynb)\n",
    "\n",
    "Your model should have 3 layers:\n",
    "- 1st layer : 6 convolutional kernels with shape (3,3)\n",
    "- 2nd layer : 6 convolutional kernels with shape (3,3)\n",
    "- 3rd layer : Softmax layer\n",
    "\n",
    "Train your model.\n",
    "\n",
    "Explain all you do, and why, make it lovely to read, plz o:)"
   ]
  },
  {
   "cell_type": "code",
   "execution_count": 2,
   "metadata": {
    "collapsed": true
   },
   "outputs": [],
   "source": [
    "from __future__ import print_function\n",
    "import numpy as np\n",
    "import tensorflow as tf\n",
    "from six.moves import cPickle as pickle\n",
    "from six.moves import range\n",
    "import pickle, gzip, numpy\n",
    "import numpy as np\n",
    "from datetime import datetime\n"
   ]
  },
  {
   "cell_type": "code",
   "execution_count": 20,
   "metadata": {},
   "outputs": [
    {
     "name": "stdout",
     "output_type": "stream",
     "text": [
      "Training set (50000, 28, 28, 1) (50000, 10)\n",
      "Validation set (10000, 28, 28, 1) (10000, 10)\n",
      "Test set (10000, 28, 28, 1) (10000, 10)\n"
     ]
    }
   ],
   "source": [
    "batch_size = 128\n",
    "patch_size = 3\n",
    "depth = 6\n",
    "image_size = 28\n",
    "num_steps = 1200\n",
    "\n",
    "\n",
    "#import the dataset\n",
    "f = gzip.open('../mnist.pkl.gz', 'rb')\n",
    "train_set, valid_set, test_set = pickle.load(f,encoding='latin1')\n",
    "f.close()\n",
    "X_train, y_train = train_set[0], train_set[1]\n",
    "X_valid, y_valid = valid_set[0], valid_set[1]\n",
    "X_test,  y_test  = test_set[0],  test_set[1]\n",
    "\n",
    "##transform labels into arrays for training\n",
    "def to_one_hot(y, n_classes=10):\n",
    "    _y = np.zeros((len(y), n_classes))\n",
    "    _y[np.arange(len(y)), y] = 1\n",
    "    return _y\n",
    "\n",
    "#rehape 2d dataset into 4d and label \n",
    "def reformat(dataset, labels):\n",
    "  dataset = dataset.reshape(\n",
    "    (-1, image_size, image_size, 1)).astype(np.float32)\n",
    "  labels = to_one_hot(labels, n_classes=10)\n",
    "  return dataset, labels\n",
    "\n",
    "X_train, y_train = reformat(X_train, y_train)\n",
    "X_valid, y_valid = reformat(X_valid, y_valid)\n",
    "X_test, y_test = reformat(X_test, y_test)\n",
    "\n",
    "print('Training set', X_train.shape, y_train.shape)\n",
    "print('Validation set', X_valid.shape, y_valid.shape)\n",
    "print('Test set', X_test.shape, y_test.shape)"
   ]
  },
  {
   "cell_type": "code",
   "execution_count": 24,
   "metadata": {},
   "outputs": [
    {
     "name": "stdout",
     "output_type": "stream",
     "text": [
      "Minibatch loss at step 0: 7.032909\n",
      "Minibatch accuracy: 13.3%\n",
      "Validation accuracy: 9.7%\n",
      "Minibatch loss at step 200: 0.155732\n",
      "Minibatch accuracy: 96.1%\n",
      "Validation accuracy: 92.1%\n",
      "Minibatch loss at step 400: 0.359502\n",
      "Minibatch accuracy: 92.2%\n",
      "Validation accuracy: 94.4%\n",
      "Minibatch loss at step 600: 0.041322\n",
      "Minibatch accuracy: 99.2%\n",
      "Validation accuracy: 96.0%\n",
      "Minibatch loss at step 800: 0.187320\n",
      "Minibatch accuracy: 97.7%\n",
      "Validation accuracy: 95.8%\n",
      "Minibatch loss at step 1000: 0.161814\n",
      "Minibatch accuracy: 93.8%\n",
      "Validation accuracy: 95.7%\n",
      "Test accuracy: 96.1%\n"
     ]
    }
   ],
   "source": [
    "now = datetime.now()\n",
    "logdir = \"./CNN/\" + now.strftime(\"%Y%m%d-%H%M%S\") + \"/\"\n",
    "\n",
    "tf.reset_default_graph()\n",
    "\n",
    "#calculate accuracy\n",
    "def accuracy(predictions, labels):\n",
    "  return (100.0 * np.sum(np.argmax(predictions, 1) == np.argmax(labels, 1))\n",
    "          / predictions.shape[0])\n",
    "\n",
    "# define placeholder for inputs to network\n",
    "train_dataset = tf.placeholder(\n",
    "    tf.float32, shape=(batch_size, image_size, image_size, 1))\n",
    "train_labels = tf.placeholder(tf.float32, shape=(batch_size, 10))\n",
    "valid_dataset = tf.constant(X_valid)\n",
    "test_dataset = tf.constant(X_test)\n",
    "\n",
    "# define placeholder for weights and biases to network\n",
    "W1 = tf.Variable(tf.random_normal(\n",
    "      [3, 3, 1, 6], stddev=0.1),name = 'W1') # patch 3x3, in size 1, out size 6\n",
    "b1 = tf.Variable(tf.random_normal([6]),name='b1')\n",
    "W2 = tf.Variable(tf.random_normal(\n",
    "      [3, 3, 6, 36], stddev=0.1),name='W2') # patch 3x3, in size 6, out size 6\n",
    "b2 = tf.Variable(tf.random_normal([36]),name='b2')\n",
    "W3 = tf.Variable(tf.random_normal(\n",
    "      [7 * 7 * 36,10], stddev=0.1),name= 'W3') # patch 3x3, in size 6, out size 6\n",
    "b3 = tf.Variable(tf.random_normal([10]),name='b3')\n",
    "\n",
    "#downsample the image data extracted by the convolutional layers\n",
    "#to reduce the dimensionality of the feature map in order to decrease processing time.\n",
    "def maxpool2d(x):\n",
    "    return tf.layers.max_pooling2d(x,pool_size=[2,2], strides=2)\n",
    "\n",
    "# Model.\n",
    "def model(data):\n",
    "  with tf.name_scope('layers'):\n",
    "    # compute layer 1 \n",
    "    with tf.name_scope('A1'):\n",
    "        conv1 = tf.nn.conv2d(data, W1, [1, 1, 1, 1], padding='SAME')\n",
    "        A1 = tf.nn.elu(conv1 + b1)\n",
    "        A1 = maxpool2d(A1)\n",
    "        variable_summaries(A1)\n",
    "    #compute layer 2\n",
    "    with tf.name_scope('A2'):\n",
    "        conv2 = tf.nn.conv2d(A1, W2, [1, 1, 1, 1], padding='SAME')\n",
    "        A2 = tf.nn.elu(conv2 + b2)\n",
    "        A2 = maxpool2d(A2)\n",
    "        variable_summaries(A2)\n",
    "    #reshape matrix for ouput\n",
    "    reshape = tf.reshape(A2,[-1, 7 * 7 * 36] )\n",
    "    #Prevent overfitting with drouput regularization\n",
    "    dropout= tf.nn.dropout(reshape, keep_prob=0.5)\n",
    "    return (tf.matmul(dropout, W3) + b3)\n",
    "\n",
    "#summaries for tensorboard\n",
    "def variable_summaries(var):\n",
    "  \"\"\"Attach a lot of summaries to a Tensor (for TensorBoard visualization).\"\"\"\n",
    "  with tf.name_scope('summaries'):\n",
    "    mean = tf.reduce_mean(var)\n",
    "    tf.summary.scalar('mean', mean)\n",
    "    with tf.name_scope('stddev'):\n",
    "      stddev = tf.sqrt(tf.reduce_mean(tf.square(var - mean)))\n",
    "    tf.summary.scalar('stddev', stddev)\n",
    "    tf.summary.scalar('max', tf.reduce_max(var))\n",
    "    #tf.summary.scalar('min', tf.reduce_min(var))\n",
    "    tf.summary.histogram('histogram', var)\n",
    "\n",
    "\n",
    "\n",
    "output = model(train_dataset)\n",
    "# the error between prediction and real data\n",
    "with tf.name_scope(\"loss\"):\n",
    "  loss = tf.reduce_mean(\n",
    "    tf.nn.softmax_cross_entropy_with_logits(labels=train_labels, logits=output))\n",
    "  \n",
    "# Define the optimizer method you want to use\n",
    "with tf.name_scope(\"optimizer\"):\n",
    "    optimizer = tf.train.AdamOptimizer(0.01).minimize(loss)\n",
    "\n",
    "# Include some Tensorboard visualization\n",
    "writer_train = tf.summary.FileWriter(logdir)\n",
    "loss_summary = tf.summary.scalar('loss_summary',loss)\n",
    "\n",
    "        \n",
    "  # Predictions for the training, validation, and test data.\n",
    "with tf.name_scope('predictions'):\n",
    "    with tf.name_scope('train'):\n",
    "        train_prediction = tf.nn.softmax(output)\n",
    "        variable_summaries(train_prediction)\n",
    "    with tf.name_scope('valid'):\n",
    "        valid_prediction = tf.nn.softmax(model(valid_dataset))\n",
    "        variable_summaries(valid_prediction)\n",
    "    with tf.name_scope('test'):\n",
    "        test_prediction = tf.nn.softmax(model(test_dataset))\n",
    "        variable_summaries(test_prediction)\n",
    "\n",
    "\n",
    "# Merge all the summaries\n",
    "merged = tf.summary.merge_all()\n",
    "variables_names =[v.name for v in tf.trainable_variables()]\n",
    "\n",
    "\n",
    "with tf.Session() as sess:\n",
    "    sess.run(tf.global_variables_initializer())\n",
    "    writer_train.add_graph(sess.graph)\n",
    "        \n",
    "    for step in range(num_steps):        \n",
    "        # Pick an offset within the training data, which has been randomized.\n",
    "        offset = (step * batch_size) % (y_train.shape[0] - batch_size)\n",
    "        # Generate a minibatch.\n",
    "        batch_data = X_train[offset:(offset + batch_size), :]\n",
    "        batch_labels = y_train[offset:(offset + batch_size), :]\n",
    "        # Prepare a dictionary telling the session where to feed the minibatch.\n",
    "        # key of the dictionary is placeholder node of the graph to be fed,\n",
    "        # and value is the numpy array to feed to it.\n",
    "        feed_dict = {train_dataset : batch_data, train_labels : batch_labels}\n",
    "        _, l, predictions, ls= sess.run(\n",
    "          [optimizer, loss, train_prediction,loss_summary], feed_dict=feed_dict)\n",
    "        \n",
    "        #writer_train.add_summary(summary,step)\n",
    "        if (step % 200 == 0):\n",
    "            print(\"Minibatch loss at step %d: %f\" % (step, l))\n",
    "            print(\"Minibatch accuracy: %.1f%%\" % accuracy(\n",
    "            predictions, batch_labels))\n",
    "            print(\"Validation accuracy: %.1f%%\" % accuracy(\n",
    "            valid_prediction.eval(), y_valid))\n",
    "        \n",
    "        #acc = accuracy(predictions, batch_labels)\n",
    "        writer_train.add_summary(ls,step)\n",
    "    \n",
    "    values = sess.run(variables_names)\n",
    "    print('Test accuracy: %.1f%%' % accuracy(test_prediction.eval(), y_test))\n"
   ]
  },
  {
   "cell_type": "markdown",
   "metadata": {},
   "source": [
    "### Print the weights of your model\n",
    "And give an interpretation on what they are doing"
   ]
  },
  {
   "cell_type": "code",
   "execution_count": 12,
   "metadata": {},
   "outputs": [
    {
     "name": "stdout",
     "output_type": "stream",
     "text": [
      "W1:0 (3, 3, 1, 6)\n",
      "b1:0 (6,)\n",
      "W2:0 (3, 3, 6, 36)\n",
      "b2:0 (36,)\n",
      "W3:0 (1764, 10)\n",
      "b3:0 (10,)\n"
     ]
    },
    {
     "data": {
      "text/plain": [
       "'Each weight holds a generalized matrix \\nthat represents the importance of each pixel in the image\\nThose weights are updated to minimize the loss at each iteration'"
      ]
     },
     "execution_count": 12,
     "metadata": {},
     "output_type": "execute_result"
    }
   ],
   "source": [
    "for k,v in zip(variables_names, values):\n",
    "    print(k, v.shape)\n",
    "\"\"\"Each weight holds a generalized matrix \n",
    "that represents the importance of each pixel in the image\n",
    "Those weights are updated to minimize the loss at each iteration\n",
    "The depth as the complexity of convolutions increase to keep only parameters that map to content\n",
    "of the image remain\"\"\""
   ]
  },
  {
   "cell_type": "markdown",
   "metadata": {},
   "source": [
    "### Chose one (tell me what you chose...)\n",
    "- Show how the gradients (show only one kernel) evolve for good and wrong prediction. (hard)\n",
    "- Initialize the kernels with values that make sense for you and show how they evolve. (easy) \n",
    "- When training is finished, show the 6+6=12 results of some convolved immages. (easy)"
   ]
  },
  {
   "cell_type": "code",
   "execution_count": 241,
   "metadata": {},
   "outputs": [
    {
     "data": {
      "image/png": "[encoded data removed]",
      "text/plain": [
       "<matplotlib.figure.Figure at 0x7fd8d5bc65c0>"
      ]
     },
     "metadata": {},
     "output_type": "display_data"
    }
   ],
   "source": [
    "from matplotlib import pyplot as plt\n",
    "\n",
    "plt.imshow(values[4], interpolation='nearest')\n",
    "plt.show()"
   ]
  }
 ],
 "metadata": {
  "kernelspec": {
   "display_name": "Python 3",
   "language": "python",
   "name": "python3"
  },
  "language_info": {
   "codemirror_mode": {
    "name": "ipython",
    "version": 3
   },
   "file_extension": ".py",
   "mimetype": "text/x-python",
   "name": "python",
   "nbconvert_exporter": "python",
   "pygments_lexer": "ipython3",
   "version": "3.5.3"
  }
 },
 "nbformat": 4,
 "nbformat_minor": 2
}

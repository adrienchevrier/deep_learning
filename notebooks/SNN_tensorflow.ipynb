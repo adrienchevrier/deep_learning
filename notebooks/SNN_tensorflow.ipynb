{
 "cells": [
  {
   "cell_type": "code",
   "execution_count": 21,
   "metadata": {
    "collapsed": true
   },
   "outputs": [],
   "source": [
    "from __future__ import print_function\n",
    "import numpy as np\n",
    "import tensorflow as tf\n",
    "from six.moves import cPickle as pickle\n",
    "from six.moves import range\n",
    "import pickle, gzip, numpy\n",
    "import numpy as np"
   ]
  },
  {
   "cell_type": "code",
   "execution_count": 22,
   "metadata": {},
   "outputs": [
    {
     "name": "stdout",
     "output_type": "stream",
     "text": [
      "Training set (50000, 784) (50000, 10)\n",
      "Validation set (10000, 784) (10000, 10)\n",
      "Test set (10000, 784) (10000, 10)\n"
     ]
    }
   ],
   "source": [
    "f = gzip.open('mnist.pkl.gz', 'rb')\n",
    "train_set, valid_set, test_set = pickle.load(f,encoding='latin1')\n",
    "f.close()\n",
    "X_train, y_train = train_set[0], train_set[1]\n",
    "X_valid, y_valid = valid_set[0], valid_set[1]\n",
    "X_test,  y_test  = test_set[0],  test_set[1]\n",
    "\n",
    "def to_one_hot(y, n_classes=10): # You might want to use this as some point...\n",
    "    _y = np.zeros((len(y), n_classes))\n",
    "    _y[np.arange(len(y)), y] = 1\n",
    "    return _y\n",
    "\n",
    "#reformat\n",
    "y_train = to_one_hot(y_train, n_classes=10)\n",
    "y_valid = to_one_hot(y_valid, n_classes=10)\n",
    "y_test = to_one_hot(y_test, n_classes=10)\n",
    "print('Training set', X_train.shape, y_train.shape)\n",
    "print('Validation set', X_valid.shape, y_valid.shape)\n",
    "print('Test set', X_test.shape, y_test.shape)\n"
   ]
  },
  {
   "cell_type": "code",
   "execution_count": 23,
   "metadata": {
    "collapsed": true
   },
   "outputs": [],
   "source": [
    "def accuracy(predictions, labels):\n",
    "  return (100.0 * np.sum(np.argmax(predictions, 1) == np.argmax(labels, 1))\n",
    "          / predictions.shape[0])"
   ]
  },
  {
   "cell_type": "code",
   "execution_count": 33,
   "metadata": {},
   "outputs": [],
   "source": [
    "batch_size = 128\n",
    "image_size = 28\n",
    "num_labels = 10\n",
    "\n",
    "graph = tf.Graph()\n",
    "with graph.as_default():\n",
    "\n",
    "  # Input data. For the training data, we use a placeholder that will be fed\n",
    "  # at run time with a training minibatch.\n",
    "  tf_train_dataset = tf.placeholder(tf.float32,\n",
    "                                    shape=(batch_size, image_size * image_size))\n",
    "  tf_train_labels = tf.placeholder(tf.float32, shape=(batch_size, num_labels))\n",
    "  tf_valid_dataset = tf.constant(X_valid)\n",
    "  tf_test_dataset = tf.constant(X_test)\n",
    "  \n",
    "  # Variables.\n",
    "  W1 = tf.Variable(\n",
    "    tf.truncated_normal([image_size * image_size, 20]))\n",
    "  b1 = tf.Variable(tf.zeros([20]))\n",
    "    \n",
    "  W2 = tf.Variable(\n",
    "    tf.truncated_normal([20, num_labels]))\n",
    "  b2 = tf.Variable(tf.zeros([num_labels]))\n",
    "  \n",
    "  # Training computation.\n",
    "  A1 = tf.matmul(tf_train_dataset, W1) + b1\n",
    "  A2 = tf.sigmoid(A1)\n",
    "  Z =  tf.matmul(A2, W2) + b2\n",
    "\n",
    "\n",
    "  loss = tf.reduce_mean(\n",
    "    tf.nn.softmax_cross_entropy_with_logits(labels=tf_train_labels, logits=Z))\n",
    "  \n",
    "  # Optimizer.\n",
    "  optimizer = tf.train.GradientDescentOptimizer(0.5).minimize(loss)\n",
    "  \n",
    "  # Predictions for the training, validation, and test data.\n",
    "  train_prediction = tf.nn.softmax(Z)\n",
    "  valid_prediction = tf.nn.softmax(\n",
    "      tf.matmul(tf.sigmoid(tf.matmul(tf_valid_dataset, W1) + b1), W2) + b2)\n",
    "  test_prediction = tf.nn.softmax(\n",
    "      tf.matmul(tf.sigmoid(tf.matmul(tf_test_dataset, W1) + b1), W2) + b2)"
   ]
  },
  {
   "cell_type": "code",
   "execution_count": 36,
   "metadata": {},
   "outputs": [
    {
     "name": "stdout",
     "output_type": "stream",
     "text": [
      "Initialized\n",
      "Minibatch loss at step 0: 4.907996\n",
      "Minibatch accuracy: 5.5%\n",
      "Validation accuracy: 7.0%\n",
      "Minibatch loss at step 500: 0.749003\n",
      "Minibatch accuracy: 78.1%\n",
      "Validation accuracy: 82.4%\n",
      "Minibatch loss at step 1000: 0.616335\n",
      "Minibatch accuracy: 83.6%\n",
      "Validation accuracy: 86.1%\n",
      "Minibatch loss at step 1500: 0.732347\n",
      "Minibatch accuracy: 82.0%\n",
      "Validation accuracy: 87.7%\n",
      "Minibatch loss at step 2000: 0.297789\n",
      "Minibatch accuracy: 90.6%\n",
      "Validation accuracy: 89.1%\n",
      "Minibatch loss at step 2500: 0.460202\n",
      "Minibatch accuracy: 85.9%\n",
      "Validation accuracy: 89.8%\n",
      "Minibatch loss at step 3000: 0.193994\n",
      "Minibatch accuracy: 94.5%\n",
      "Validation accuracy: 90.4%\n",
      "Minibatch loss at step 3500: 0.416146\n",
      "Minibatch accuracy: 88.3%\n",
      "Validation accuracy: 90.7%\n",
      "Minibatch loss at step 4000: 0.190437\n",
      "Minibatch accuracy: 93.0%\n",
      "Validation accuracy: 91.2%\n",
      "Minibatch loss at step 4500: 0.322153\n",
      "Minibatch accuracy: 86.7%\n",
      "Validation accuracy: 91.8%\n",
      "Minibatch loss at step 5000: 0.322256\n",
      "Minibatch accuracy: 89.8%\n",
      "Validation accuracy: 91.8%\n",
      "Minibatch loss at step 5500: 0.299524\n",
      "Minibatch accuracy: 89.8%\n",
      "Validation accuracy: 92.2%\n",
      "Minibatch loss at step 6000: 0.295806\n",
      "Minibatch accuracy: 93.0%\n",
      "Validation accuracy: 92.2%\n",
      "Minibatch loss at step 6500: 0.226169\n",
      "Minibatch accuracy: 94.5%\n",
      "Validation accuracy: 92.3%\n",
      "Minibatch loss at step 7000: 0.134077\n",
      "Minibatch accuracy: 93.8%\n",
      "Validation accuracy: 92.7%\n",
      "Minibatch loss at step 7500: 0.265409\n",
      "Minibatch accuracy: 90.6%\n",
      "Validation accuracy: 92.6%\n",
      "Minibatch loss at step 8000: 0.301677\n",
      "Minibatch accuracy: 90.6%\n",
      "Validation accuracy: 93.0%\n",
      "Minibatch loss at step 8500: 0.200592\n",
      "Minibatch accuracy: 93.0%\n",
      "Validation accuracy: 93.2%\n",
      "Minibatch loss at step 9000: 0.175930\n",
      "Minibatch accuracy: 96.1%\n",
      "Validation accuracy: 93.2%\n",
      "Minibatch loss at step 9500: 0.225473\n",
      "Minibatch accuracy: 92.2%\n",
      "Validation accuracy: 93.4%\n",
      "Test accuracy: 92.6%\n"
     ]
    }
   ],
   "source": [
    "\n",
    "\n",
    "num_steps = 10000\n",
    "\n",
    "with tf.Session(graph=graph) as session:\n",
    "  tf.global_variables_initializer().run()\n",
    "  print(\"Initialized\")\n",
    "  for step in range(num_steps):\n",
    "    # Pick an offset within the training data, which has been randomized.\n",
    "    offset = (step * batch_size) % (y_train.shape[0] - batch_size)\n",
    "    # Generate a minibatch.\n",
    "    batch_data = X_train[offset:(offset + batch_size), :]\n",
    "    batch_labels = y_train[offset:(offset + batch_size), :]\n",
    "    # Prepare a dictionary telling the session where to feed the minibatch.\n",
    "    # key of the dictionary is placeholder node of the graph to be fed,\n",
    "    # and value is the numpy array to feed to it.\n",
    "    feed_dict = {tf_train_dataset : batch_data, tf_train_labels : batch_labels}\n",
    "    _, l, predictions = session.run(\n",
    "      [optimizer, loss, train_prediction], feed_dict=feed_dict)\n",
    "    if (step % 500 == 0):\n",
    "      print(\"Minibatch loss at step %d: %f\" % (step, l))\n",
    "      print(\"Minibatch accuracy: %.1f%%\" % accuracy(predictions, batch_labels))\n",
    "      print(\"Validation accuracy: %.1f%%\" % accuracy(\n",
    "        valid_prediction.eval(), y_valid))\n",
    "  print(\"Test accuracy: %.1f%%\" % accuracy(test_prediction.eval(), y_test))\n",
    "\n"
   ]
  },
  {
   "cell_type": "code",
   "execution_count": 39,
   "metadata": {},
   "outputs": [
    {
     "data": {
      "text/plain": [
       "TensorShape([Dimension(128), Dimension(20)])"
      ]
     },
     "execution_count": 39,
     "metadata": {},
     "output_type": "execute_result"
    }
   ],
   "source": [
    "A2.shape"
   ]
  }
 ],
 "metadata": {
  "kernelspec": {
   "display_name": "Python 3",
   "language": "python",
   "name": "python3"
  },
  "language_info": {
   "codemirror_mode": {
    "name": "ipython",
    "version": 3
   },
   "file_extension": ".py",
   "mimetype": "text/x-python",
   "name": "python",
   "nbconvert_exporter": "python",
   "pygments_lexer": "ipython3",
   "version": "3.5.3"
  }
 },
 "nbformat": 4,
 "nbformat_minor": 2
}
